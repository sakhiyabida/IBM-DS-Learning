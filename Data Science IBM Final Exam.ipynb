{
 "cells": [
  {
   "cell_type": "code",
   "execution_count": 1,
   "id": "c8d880da",
   "metadata": {},
   "outputs": [
    {
     "data": {
      "text/plain": [
       "3"
      ]
     },
     "execution_count": 1,
     "metadata": {},
     "output_type": "execute_result"
    }
   ],
   "source": [
    "int(3.2)"
   ]
  },
  {
   "cell_type": "code",
   "execution_count": 2,
   "id": "b2d626ae",
   "metadata": {},
   "outputs": [],
   "source": [
    "A='1234567'"
   ]
  },
  {
   "cell_type": "code",
   "execution_count": 3,
   "id": "5443ec7b",
   "metadata": {},
   "outputs": [
    {
     "data": {
      "text/plain": [
       "'246'"
      ]
     },
     "execution_count": 3,
     "metadata": {},
     "output_type": "execute_result"
    }
   ],
   "source": [
    "A[1::2]"
   ]
  },
  {
   "cell_type": "code",
   "execution_count": 4,
   "id": "d6d5018f",
   "metadata": {},
   "outputs": [
    {
     "data": {
      "text/plain": [
       "5"
      ]
     },
     "execution_count": 4,
     "metadata": {},
     "output_type": "execute_result"
    }
   ],
   "source": [
    "Name=\"Michael Jackson\" \n",
    "Name.find('el')"
   ]
  },
  {
   "cell_type": "code",
   "execution_count": 5,
   "id": "5c2e15cf",
   "metadata": {},
   "outputs": [
    {
     "data": {
      "text/plain": [
       "'YOU ARE WRONG'"
      ]
     },
     "execution_count": 5,
     "metadata": {},
     "output_type": "execute_result"
    }
   ],
   "source": [
    "F = \"You are wrong\"\n",
    "\n",
    "F.upper()"
   ]
  },
  {
   "cell_type": "code",
   "execution_count": 6,
   "id": "d32de70f",
   "metadata": {},
   "outputs": [
    {
     "data": {
      "text/plain": [
       "'C'"
      ]
     },
     "execution_count": 6,
     "metadata": {},
     "output_type": "execute_result"
    }
   ],
   "source": [
    "tuple1=(\"A\",\"B\",\"C\" )\n",
    "\n",
    "tuple1[-1]"
   ]
  },
  {
   "cell_type": "code",
   "execution_count": 7,
   "id": "9ffd6a88",
   "metadata": {},
   "outputs": [
    {
     "data": {
      "text/plain": [
       "[21, 22]"
      ]
     },
     "execution_count": 7,
     "metadata": {},
     "output_type": "execute_result"
    }
   ],
   "source": [
    "A=((11,12),[21,22])\n",
    "\n",
    "A[1]"
   ]
  },
  {
   "cell_type": "code",
   "execution_count": 8,
   "id": "8cacb13f",
   "metadata": {},
   "outputs": [
    {
     "data": {
      "text/plain": [
       "12"
      ]
     },
     "execution_count": 8,
     "metadata": {},
     "output_type": "execute_result"
    }
   ],
   "source": [
    "A[0][1]"
   ]
  },
  {
   "cell_type": "code",
   "execution_count": 10,
   "id": "e4f8cad1",
   "metadata": {},
   "outputs": [
    {
     "data": {
      "text/plain": [
       "['1', '2', '3', '4']"
      ]
     },
     "execution_count": 10,
     "metadata": {},
     "output_type": "execute_result"
    }
   ],
   "source": [
    "'1,2,3,4'.split(',')"
   ]
  },
  {
   "cell_type": "code",
   "execution_count": 11,
   "id": "31b7a79d",
   "metadata": {},
   "outputs": [],
   "source": [
    "A = [1, 'a']\n",
    "B = [2, 1, 'd']"
   ]
  },
  {
   "cell_type": "code",
   "execution_count": 12,
   "id": "a57492d5",
   "metadata": {},
   "outputs": [
    {
     "data": {
      "text/plain": [
       "[1, 'a', 2, 1, 'd']"
      ]
     },
     "execution_count": 12,
     "metadata": {},
     "output_type": "execute_result"
    }
   ],
   "source": [
    "A + B"
   ]
  },
  {
   "cell_type": "code",
   "execution_count": 13,
   "id": "ec2675bb",
   "metadata": {},
   "outputs": [],
   "source": [
    "a = set(A)"
   ]
  },
  {
   "cell_type": "code",
   "execution_count": 17,
   "id": "d8cc5f16",
   "metadata": {},
   "outputs": [],
   "source": [
    "V = {'A', 'B', 'C'}"
   ]
  },
  {
   "cell_type": "code",
   "execution_count": 18,
   "id": "431c7d6b",
   "metadata": {},
   "outputs": [],
   "source": [
    "V.add('C')"
   ]
  },
  {
   "cell_type": "code",
   "execution_count": 19,
   "id": "52a8d6da",
   "metadata": {},
   "outputs": [
    {
     "data": {
      "text/plain": [
       "{'A', 'B', 'C'}"
      ]
     },
     "execution_count": 19,
     "metadata": {},
     "output_type": "execute_result"
    }
   ],
   "source": [
    "V"
   ]
  },
  {
   "cell_type": "code",
   "execution_count": 21,
   "id": "902ad24b",
   "metadata": {},
   "outputs": [
    {
     "name": "stdout",
     "output_type": "stream",
     "text": [
      "Go \n",
      "Mike\n"
     ]
    }
   ],
   "source": [
    "x=\"Go\"\n",
    "\n",
    "if(x!=\"Go\"):\n",
    "\n",
    "    print('Stop')\n",
    "\n",
    "else:\n",
    "\n",
    "    print('Go ')\n",
    "\n",
    "print('Mike')"
   ]
  },
  {
   "cell_type": "code",
   "execution_count": 22,
   "id": "495f403e",
   "metadata": {},
   "outputs": [
    {
     "name": "stdout",
     "output_type": "stream",
     "text": [
      "Go \n",
      "Mike\n"
     ]
    }
   ],
   "source": [
    "x=\"Go\"\n",
    "\n",
    "if(x==\"Go\"):\n",
    "\n",
    "    print('Go ')\n",
    "\n",
    "else:\n",
    "\n",
    "    print('Stop')\n",
    "\n",
    "print('Mike')"
   ]
  },
  {
   "cell_type": "code",
   "execution_count": 24,
   "id": "201df389",
   "metadata": {},
   "outputs": [
    {
     "name": "stdout",
     "output_type": "stream",
     "text": [
      "1\n",
      "2\n",
      "3\n"
     ]
    }
   ],
   "source": [
    "for n in range(3):\n",
    "    print(n+1)"
   ]
  },
  {
   "cell_type": "code",
   "execution_count": 25,
   "id": "377ca34d",
   "metadata": {},
   "outputs": [
    {
     "name": "stdout",
     "output_type": "stream",
     "text": [
      "11\n",
      "22\n",
      "33\n"
     ]
    }
   ],
   "source": [
    "A = ['1', '2', '3']\n",
    "\n",
    "for a in A:\n",
    "    print(2*a)"
   ]
  },
  {
   "cell_type": "code",
   "execution_count": 26,
   "id": "470c48bb",
   "metadata": {},
   "outputs": [],
   "source": [
    "def Add(x, y):\n",
    "    z = x + y\n",
    "    return(y)"
   ]
  },
  {
   "cell_type": "code",
   "execution_count": 27,
   "id": "f99be990",
   "metadata": {},
   "outputs": [
    {
     "data": {
      "text/plain": [
       "'1'"
      ]
     },
     "execution_count": 27,
     "metadata": {},
     "output_type": "execute_result"
    }
   ],
   "source": [
    "Add('1', '1')"
   ]
  },
  {
   "cell_type": "code",
   "execution_count": 28,
   "id": "ff376dfa",
   "metadata": {},
   "outputs": [],
   "source": [
    "class Points(object):\n",
    "    def __init__(self, x, y):\n",
    "        self.x = x\n",
    "        self.y = y\n",
    "    def print_point(self):\n",
    "        print('x=', self.x, 'y=', self.y)"
   ]
  },
  {
   "cell_type": "code",
   "execution_count": 30,
   "id": "beecc950",
   "metadata": {},
   "outputs": [
    {
     "name": "stdout",
     "output_type": "stream",
     "text": [
      "x= 2 y= 2\n"
     ]
    }
   ],
   "source": [
    "p2 = Points(1, 2)\n",
    "\n",
    "p2.x = 2\n",
    "\n",
    "p2.print_point()"
   ]
  },
  {
   "cell_type": "code",
   "execution_count": null,
   "id": "894bcdbc",
   "metadata": {},
   "outputs": [],
   "source": []
  }
 ],
 "metadata": {
  "kernelspec": {
   "display_name": "Python 3 (ipykernel)",
   "language": "python",
   "name": "python3"
  },
  "language_info": {
   "codemirror_mode": {
    "name": "ipython",
    "version": 3
   },
   "file_extension": ".py",
   "mimetype": "text/x-python",
   "name": "python",
   "nbconvert_exporter": "python",
   "pygments_lexer": "ipython3",
   "version": "3.11.2"
  }
 },
 "nbformat": 4,
 "nbformat_minor": 5
}
